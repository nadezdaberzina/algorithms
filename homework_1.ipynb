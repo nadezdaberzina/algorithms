{
 "cells": [
  {
   "cell_type": "markdown",
   "metadata": {},
   "source": [
    "# Алгоритмы анализа данных"
   ]
  },
  {
   "cell_type": "markdown",
   "metadata": {},
   "source": [
    "## Урок 1. Алгоритм линейной регрессии. Градиентный спуск"
   ]
  },
  {
   "cell_type": "markdown",
   "metadata": {},
   "source": [
    "### Задание 1"
   ]
  },
  {
   "cell_type": "markdown",
   "metadata": {},
   "source": [
    "Реализовать оптимизацию методом градиентного спуска для x^2(np.sin(0,5_x)^2+1). Какие параметры шага и количества итераций оптимальны? При каких значениях шага оптимизиция не выходит из локальных минимумов? Подробные условия смотрите в .ipynb файле, приложенном к материалам."
   ]
  },
  {
   "cell_type": "code",
   "execution_count": 1,
   "metadata": {},
   "outputs": [],
   "source": [
    "import numpy as np\n",
    "import matplotlib.pyplot as plt\n",
    "%matplotlib inline"
   ]
  },
  {
   "cell_type": "code",
   "execution_count": 2,
   "metadata": {},
   "outputs": [
    {
     "data": {
      "image/png": "[encoded data removed]",
      "text/plain": [
       "<Figure size 432x288 with 1 Axes>"
      ]
     },
     "metadata": {
      "needs_background": "light"
     },
     "output_type": "display_data"
    }
   ],
   "source": [
    "x = np.linspace(-50, 50, 5000)\n",
    "def func1(_x): return (_x**2)*(np.sin(0.5*_x)**2+1)\n",
    "plt.plot(x, func1(x))\n",
    "plt.show()"
   ]
  },
  {
   "cell_type": "code",
   "execution_count": 3,
   "metadata": {},
   "outputs": [],
   "source": [
    "def grad1(_x): return 2*_x*(np.sin(0.5*_x)**2+1)+_x**2*np.sin(0.5*_x)*np.cos(0.5*_x)"
   ]
  },
  {
   "cell_type": "code",
   "execution_count": 4,
   "metadata": {},
   "outputs": [],
   "source": [
    "def calculate_grad(func, x0, delta=0.0001): return (func(x0+delta)-func(x0))/delta\n",
    "def calculate_grad2(func, x0, delta=0.0001): return (func(x0+delta)-func(x0-delta))/(2*delta)"
   ]
  },
  {
   "cell_type": "code",
   "execution_count": 5,
   "metadata": {},
   "outputs": [
    {
     "name": "stdout",
     "output_type": "stream",
     "text": [
      "true grad 12.59000194042124\n",
      "method1 12.590034255097748\n",
      "method2 12.590001925421035\n"
     ]
    }
   ],
   "source": [
    "x0=np.random.uniform(-50, 50)\n",
    "print('true grad', grad1(x0))\n",
    "print('method1', calculate_grad(func1, x0))\n",
    "print('method2', calculate_grad2(func1, x0))"
   ]
  },
  {
   "cell_type": "code",
   "execution_count": 9,
   "metadata": {},
   "outputs": [
    {
     "name": "stdout",
     "output_type": "stream",
     "text": [
      "4.157301333726551 30.478996474069383\n",
      "3.798680396440463 27.35760087826777\n",
      "3.308840751830707 21.82047039222268\n",
      "2.7072234571873746 14.317813694419367\n",
      "2.1133599419325364 7.852482187422532\n",
      "1.6555178644639208 4.227070088273092\n",
      "1.3383850405956457 2.4806244400904673\n",
      "1.1140410358193553 1.5879475709907953\n",
      "0.9470628052419906 1.0834576977620567\n",
      "0.8171119894374208 0.7730540419077478\n",
      "0.7124682838602148 0.5693490834542403\n",
      "0.6260245611575393 0.42906671716787537\n",
      "0.5532310950978782 0.32889228898815\n",
      "0.4910306832875235 0.25535509467891504\n",
      "0.4372814009188215 0.20021109031883189\n",
      "0.3904277999871262 0.15816947091704378\n",
      "0.34930485994805155 0.125698042720715\n",
      "0.3130162807586693 0.1003596407449925\n",
      "0.28085622544777594 0.08042554347729702\n",
      "0.25225743537620227 0.06464077251272066\n",
      "0.22675589243160366 0.05207636620746505\n",
      "0.2039661685627744 0.04203338565832133\n",
      "0.18356385564927866 0.033978742818446546\n",
      "0.16527279222753732 0.027501200265168748\n",
      "0.1488556052955495 0.022280508892081743\n",
      "0.1341065844606116 0.018065316123823002\n",
      "0.12084622399688488 0.014657062814512069\n",
      "0.1089169758539859 0.01189805500707186\n",
      "0.09817989452399616 0.009662502021554852\n",
      "0.08851194786446431 0.007849699218032639\n",
      "0.07980383192692732 0.006378786140659113\n",
      "0.07195817232075395 0.005184678537469635\n",
      "0.06488802595177232 0.004214886341826297\n",
      "0.05851561925250584 0.003427007937264655\n",
      "0.052771275027896414 0.0027867458063408897\n",
      "0.04759249164730519 0.002266327626628907\n",
      "0.04292314680302362 0.001843245007437615\n",
      "0.03871280431728037 0.001499242659332713\n",
      "0.03491610713724076 0.001219506072126299\n",
      "0.03149224315145905 0.0009920072560467166\n",
      "0.028404473105598644 0.000806976818710339\n",
      "0.025619711915166064 0.0006564773380006491\n",
      "0.023108156231031074 0.0005340581667238472\n",
      "0.020842952327582195 0.0004344758420873184\n",
      "0.018799899339553883 0.0003534674435471223\n",
      "0.016957183634963364 0.0002875667470211345\n",
      "0.015295140724714714 0.00023395501165853974\n",
      "0.013796041608707277 0.00019033982037547776\n",
      "0.01244390086936916 0.0001548566634517408\n",
      "0.011224304165626342 0.00012598897201614577\n",
      "0.010124253067879896 0.00010250312674817443\n",
      "0.009132025418570005 8.339562686847526e-05\n",
      "0.008237049611738883 6.785013717097629e-05\n",
      "0.007429791365122878 5.520256153542338e-05\n",
      "0.006701651714724614 4.4912639978567434e-05\n",
      "0.006044875098475327 3.654084875745896e-05\n",
      "0.005452466515614583 2.9729612062524662e-05\n",
      "0.0049181168542869035 2.4188019655430904e-05\n",
      "0.0044361355736038085 1.9679395645934996e-05\n",
      "0.004001390009699316 1.6011186098642982e-05\n",
      "0.0036092506494846267 1.3026732674423868e-05\n",
      "0.0032555417820259625 1.0598580376819662e-05\n",
      "0.0029364969966921965 8.62303320066418e-06\n",
      "0.0026487190502663296 7.01572491229242e-06\n",
      "0.002389143672791098 5.708015634571236e-06\n",
      "0.0021550069246327984 4.644060237024576e-06\n",
      "0.0019438157556285218 3.7784232609423997e-06\n",
      "0.0017533214516940619 3.074138475548178e-06\n",
      "0.0015814956853206544 2.5011301665985923e-06\n",
      "0.0014265089143386104 2.034928717920014e-06\n",
      "0.0012867108984941813 1.6556256215770911e-06\n",
      "0.0011606131260565513 1.3470232819923343e-06\n",
      "0.0010468729630977757 1.0959433011378546e-06\n",
      "0.0009442793564958597 8.916637018701707e-07\n",
      "0.0008517399383022775 7.25461054072547e-07\n",
      "0.000768269394071359 5.902379489619522e-07\n",
      "0.000692978971232745 4.802199122235685e-07\n",
      "0.0006250670157456062 3.907088123364532e-07\n",
      "0.0005638104362357981 3.1788223327067487e-07\n",
      "0.0005085570047026502 2.586302437545296e-07\n",
      "0.00045871841179690825 2.104225923908934e-07\n",
      "0.00041376400271110045 1.7120065726692705e-07\n",
      "0.00037321512697441605 1.392895358529228e-07\n",
      "0.0003366400419836603 1.1332652107748545e-07\n",
      "0.00030364931599989966 9.220290923255093e-08\n",
      "0.00027389168166003935 7.50166546894389e-08\n",
      "0.00024705029585058005 6.10338496111418e-08\n",
      "0.00022283936611838012 4.965738370850538e-08\n",
      "0.0002010011076965635 4.040144570331471e-08\n",
      "0.00018130299874438425 3.2870777623828194e-08\n",
      "0.00016353530457541564 2.6743796021381612e-08\n",
      "0.0001475088445127207 2.1758859327840007e-08\n",
      "0.0001330529775932025 1.770309492476714e-08\n",
      "0.00012001378567365163 1.4403308803585015e-08\n",
      "0.00010825243459293258 1.1718589629628483e-08\n",
      "9.764369594066546e-05 9.534291379678808e-09\n",
      "8.807461369286303e-05 7.757137592190352e-09\n",
      "7.944330151748531e-05 6.3112381659560154e-09\n",
      "7.165785794420386e-05 5.134848611743369e-09\n",
      "6.463538784764222e-05 4.1777333665785e-09\n"
     ]
    }
   ],
   "source": [
    "x0=np.random.uniform(-50, 50)\n",
    "alpha=0.049\n",
    "n_iter=100\n",
    "for x in range(n_iter):\n",
    "    print(x0, func1(x0))\n",
    "    x0-=alpha*grad1(x0)"
   ]
  },
  {
   "cell_type": "code",
   "execution_count": 11,
   "metadata": {},
   "outputs": [
    {
     "name": "stdout",
     "output_type": "stream",
     "text": [
      "0.00027372584132068694 7.49258376101881e-08\n"
     ]
    }
   ],
   "source": [
    "class optimizer:\n",
    "    def __init__(self, alpha, n_iter):\n",
    "        self.alpha=alpha\n",
    "        self.n_iter=n_iter\n",
    "    def fit(self, func, grad, x0):\n",
    "        for i in range(self.n_iter):\n",
    "            x0-=self.alpha*grad(x0)\n",
    "        return x0\n",
    "opt1=optimizer(alpha, 100)\n",
    "x=opt1.fit(func1, grad1, np.random.uniform(-50, 50))\n",
    "print(x, func1(x))"
   ]
  },
  {
   "cell_type": "markdown",
   "metadata": {},
   "source": [
    "Какие параметры шага и количества итераций оптимальны?\n",
    "\n",
    "Не удалось подобрать такое значение шага, при котором бы алгоритм ни разу не разлетелся или ни разу не застрял в локальном минимуме.\n",
    "Алгоритм работал наиболее стабильно при шаге 0.049, но все равно иногда очень редко, но разлетался. При 0.048 может как редко разлетаться, так и редко застревать. 100 итераций оказалось достаточно.\n",
    "\n",
    "\n",
    "При каких значениях шага оптимизиция не выходит из локальных минимумов?\n",
    "\n",
    "При 0.03 застревание в локальном минимуме происходит примерно в половине случаев, при 0.02 застревает практически всегда, при 0.01 застревает еще чаще."
   ]
  },
  {
   "cell_type": "code",
   "execution_count": null,
   "metadata": {},
   "outputs": [],
   "source": []
  }
 ],
 "metadata": {
  "kernelspec": {
   "display_name": "Python 3",
   "language": "python",
   "name": "python3"
  },
  "language_info": {
   "codemirror_mode": {
    "name": "ipython",
    "version": 3
   },
   "file_extension": ".py",
   "mimetype": "text/x-python",
   "name": "python",
   "nbconvert_exporter": "python",
   "pygments_lexer": "ipython3",
   "version": "3.7.6"
  }
 },
 "nbformat": 4,
 "nbformat_minor": 4
}
