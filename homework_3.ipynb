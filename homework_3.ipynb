{
 "cells": [
  {
   "cell_type": "code",
   "execution_count": 1,
   "metadata": {},
   "outputs": [],
   "source": [
    "import matplotlib\n",
    "import numpy as np\n",
    "import matplotlib.pyplot as plt\n",
    "from scipy.stats import norm\n",
    "%matplotlib inline"
   ]
  },
  {
   "cell_type": "code",
   "execution_count": 2,
   "metadata": {},
   "outputs": [],
   "source": [
    "from sklearn import datasets\n",
    "from matplotlib.colors import ListedColormap\n",
    "\n",
    "classes = datasets.make_classification(n_samples=100, n_features=2, n_informative=2,\n",
    "                                       n_redundant=0, n_classes=2, random_state=1)"
   ]
  },
  {
   "cell_type": "code",
   "execution_count": 3,
   "metadata": {},
   "outputs": [
    {
     "name": "stdout",
     "output_type": "stream",
     "text": [
      "Размер массива признаков обучающей выборки (70, 2)\n",
      "Размер массива признаков тестовой выборки (30, 2)\n",
      "Размер массива ответов для обучающей выборки (70,)\n",
      "Размер массива ответов для тестовой выборки (30,)\n"
     ]
    }
   ],
   "source": [
    "# перемешивание датасета\n",
    "np.random.seed(12)\n",
    "shuffle_index = np.random.permutation(classes[0].shape[0])\n",
    "X_shuffled, y_shuffled = classes[0][shuffle_index], classes[1][shuffle_index]\n",
    "\n",
    "# разбивка на обучающую и тестовую выборки\n",
    "train_proportion = 0.7\n",
    "train_test_cut = int(len(classes[0]) * train_proportion)\n",
    "\n",
    "X_train, X_test, y_train, y_test = \\\n",
    "    X_shuffled[:train_test_cut], \\\n",
    "    X_shuffled[train_test_cut:], \\\n",
    "    y_shuffled[:train_test_cut], \\\n",
    "    y_shuffled[train_test_cut:]\n",
    "    \n",
    "print(\"Размер массива признаков обучающей выборки\", X_train.shape)\n",
    "print(\"Размер массива признаков тестовой выборки\", X_test.shape)\n",
    "print(\"Размер массива ответов для обучающей выборки\", y_train.shape)\n",
    "print(\"Размер массива ответов для тестовой выборки\", y_test.shape)"
   ]
  },
  {
   "cell_type": "code",
   "execution_count": 4,
   "metadata": {},
   "outputs": [],
   "source": [
    "class logistic_regression:\n",
    "    def __init__(self, n_iterations=1000, eta=0.05):\n",
    "        self.n_iterations=1000\n",
    "        self.eta=eta\n",
    "    def _log_grad(self, X, target):\n",
    "        m = X.shape[0]\n",
    "        y=(2*target-1)\n",
    "        score=np.dot(X, self.w.T).flatten()+self.w0\n",
    "        Z=-y/(m*(1+np.exp(y*score)))\n",
    "        grad=Z[np.newaxis, :].dot(X)\n",
    "        return grad/m, np.sum(Z)/m\n",
    "    def _optimize(self, X, y):\n",
    "        for i in range(self.n_iterations):        \n",
    "            grad_w, grad_w0 = self._log_grad(X, y)\n",
    "            self.w = self.w-self.eta * grad_w\n",
    "            self.w0 = self.w0 - self.eta * grad_w0\n",
    "    def fit(self, X, y):\n",
    "        self.w = np.zeros((1, X.shape[1]))\n",
    "        self.w0=0\n",
    "        self._optimize(X, y)\n",
    "    def predict_proba(self, X):  \n",
    "        '''\n",
    "        Рассчёт вероятности\n",
    "        '''\n",
    "        score=X.dot(self.w.T).flatten()+self.w0\n",
    "        return 1/(1+np.exp(-score))\n",
    "    def predict(self, X, thr=0.5):\n",
    "        proba=self.predict_proba(X)\n",
    "        y_predicted = np.zeros(proba.shape) \n",
    "        y_predicted[proba>thr]=1\n",
    "        y_predicted[proba<=thr]=0\n",
    "        return y_predicted"
   ]
  },
  {
   "cell_type": "code",
   "execution_count": 5,
   "metadata": {},
   "outputs": [
    {
     "name": "stdout",
     "output_type": "stream",
     "text": [
      "Точность на обучающей выборке: 97.143\n",
      "Точность на тестовой выборке: 96.667\n"
     ]
    }
   ],
   "source": [
    "mod=logistic_regression()\n",
    "mod.fit(X_train, y_train)\n",
    "y_predicted_test = mod.predict(X_test)\n",
    "y_predicted_train = mod.predict(X_train)\n",
    "\n",
    "train_accuracy = 100.0 - np.mean(np.abs(y_predicted_train - y_train)*100.0)\n",
    "test_accuracy = 100.0 - np.mean(np.abs(y_predicted_test-y_test)*100.0)\n",
    "\n",
    "print(f\"Точность на обучающей выборке: {train_accuracy:.3f}\")\n",
    "print(f\"Точность на тестовой выборке: {test_accuracy:.3f}\")"
   ]
  },
  {
   "cell_type": "code",
   "execution_count": 6,
   "metadata": {},
   "outputs": [],
   "source": [
    "def confusion(predicted, actual):\n",
    "    TP=np.sum(np.logical_and(predicted==1, actual==1))\n",
    "    FP=np.sum(np.logical_and(predicted==1, actual==0))\n",
    "    FN=np.sum(np.logical_and(predicted==0, actual==1))\n",
    "    TN=np.sum(np.logical_and(predicted==0, actual==0))\n",
    "    return {'TP': TP, 'FP': FP, 'FN': FN, 'TN': TN}"
   ]
  },
  {
   "cell_type": "code",
   "execution_count": 7,
   "metadata": {},
   "outputs": [
    {
     "name": "stdout",
     "output_type": "stream",
     "text": [
      "Для порога по вероятности 0.5 на тестовой выборке имеем: {'TP': 15, 'FP': 0, 'FN': 1, 'TN': 14}\n",
      "Для порога по вероятности 0.75 на тестовой выборке имеем: {'TP': 0, 'FP': 0, 'FN': 16, 'TN': 14}\n"
     ]
    }
   ],
   "source": [
    "print(\"Для порога по вероятности 0.5 на тестовой выборке имеем:\"+\n",
    "      f\" {confusion(mod.predict(X_test), y_test)}\")\n",
    "print(\"Для порога по вероятности 0.75 на тестовой выборке имеем:\"+\n",
    "      f\" {confusion(mod.predict(X_test, 0.75), y_test)}\")"
   ]
  },
  {
   "cell_type": "code",
   "execution_count": 8,
   "metadata": {},
   "outputs": [
    {
     "name": "stdout",
     "output_type": "stream",
     "text": [
      "Для порога по вероятности 0.5 на тестовой выборке имеем: чувствительность 0.9375,специфичность 1.0, сбалансированную точность 0.96875\n"
     ]
    }
   ],
   "source": [
    "cofusion_fixed=confusion(mod.predict(X_test), y_test)\n",
    "sensitivity=cofusion_fixed['TP']/(cofusion_fixed['TP']+cofusion_fixed['FN'])\n",
    "specificity=cofusion_fixed['TN']/(cofusion_fixed['TN']+cofusion_fixed['FP'])\n",
    "balanced_accuracy=(sensitivity+specificity)/2\n",
    "print(f\"Для порога по вероятности 0.5 на тестовой выборке имеем: чувствительность {sensitivity},\"+\n",
    "      f\"специфичность {specificity}, сбалансированную точность {balanced_accuracy}\")"
   ]
  },
  {
   "cell_type": "code",
   "execution_count": 9,
   "metadata": {},
   "outputs": [
    {
     "name": "stdout",
     "output_type": "stream",
     "text": [
      "Для порога по вероятности 0.5 на тестовой выборке имеем: точность 1.0,полноту 0.9375, f1-скор 0.967741935483871\n"
     ]
    }
   ],
   "source": [
    "precision=cofusion_fixed['TP']/(cofusion_fixed['TP']+cofusion_fixed['FP'])\n",
    "recall=sensitivity\n",
    "f1_score=2*precision*recall/(precision+recall)\n",
    "print(f\"Для порога по вероятности 0.5 на тестовой выборке имеем: точность {precision},\"+\n",
    "      f\"полноту {recall}, f1-скор {f1_score}\")"
   ]
  },
  {
   "cell_type": "code",
   "execution_count": 10,
   "metadata": {},
   "outputs": [
    {
     "name": "stdout",
     "output_type": "stream",
     "text": [
      "[0.37576184 0.37743532 0.38605073 0.39329824 0.39603114 0.42197009\n",
      " 0.42581106 0.43518686 0.43566684 0.43744861 0.43928215 0.46380207\n",
      " 0.46916467 0.47141598 0.47900766 0.51300754 0.53516296 0.53568316\n",
      " 0.54206801 0.54703978 0.55547788 0.5605486  0.56403656 0.56439493\n",
      " 0.56901128 0.57091569 0.57432516 0.57928111 0.58140373 0.59967655]\n"
     ]
    }
   ],
   "source": [
    "probability_list = np.unique(mod.predict_proba(X_test))\n",
    "print(probability_list)"
   ]
  },
  {
   "cell_type": "code",
   "execution_count": 49,
   "metadata": {},
   "outputs": [],
   "source": [
    "def confusion_tn(predicted, actual):\n",
    "    TN=np.sum(np.logical_and(predicted==0, actual==0))\n",
    "    return TN\n",
    "\n",
    "tn_list = []\n",
    "for i in probability_list:\n",
    "    tn_list.append(confusion_tn(mod.predict(X_test, i), y_test))"
   ]
  },
  {
   "cell_type": "code",
   "execution_count": 50,
   "metadata": {},
   "outputs": [
    {
     "name": "stdout",
     "output_type": "stream",
     "text": [
      "[1, 2, 3, 4, 5, 6, 7, 8, 9, 10, 11, 12, 13, 13, 14, 14, 14, 14, 14, 14, 14, 14, 14, 14, 14, 14, 14, 14, 14, 14]\n"
     ]
    }
   ],
   "source": [
    "print(tn_list)"
   ]
  },
  {
   "cell_type": "code",
   "execution_count": 56,
   "metadata": {},
   "outputs": [],
   "source": [
    "tn_list = np.array(tn_list)"
   ]
  },
  {
   "cell_type": "code",
   "execution_count": 51,
   "metadata": {},
   "outputs": [],
   "source": [
    "def confusion_fn(predicted, actual):\n",
    "    FN=np.sum(np.logical_and(predicted==0, actual==1))\n",
    "    return FN\n",
    "\n",
    "fn_list = []\n",
    "for i in probability_list:\n",
    "    fn_list.append(confusion_fn(mod.predict(X_test, i), y_test))"
   ]
  },
  {
   "cell_type": "code",
   "execution_count": 57,
   "metadata": {},
   "outputs": [],
   "source": [
    "fn_list = np.array(fn_list)"
   ]
  },
  {
   "cell_type": "code",
   "execution_count": 58,
   "metadata": {},
   "outputs": [],
   "source": [
    "#Чувствительность, доля объектов негативного класса, которых при текущем значении предела\n",
    "#правильно записали в негативный класс\n",
    "TPR=np.concatenate([[0], tn_list/14])\n",
    "\n",
    "#Ложно-позитивный уровень, доля объектов положительного класса, которых при текущем значении предела\n",
    "#ошибочно записали в негативный класс\n",
    "FPR=np.concatenate([[0], fn_list/16])"
   ]
  },
  {
   "cell_type": "code",
   "execution_count": 59,
   "metadata": {},
   "outputs": [
    {
     "data": {
      "text/plain": [
       "array([0.        , 0.07142857, 0.14285714, 0.21428571, 0.28571429,\n",
       "       0.35714286, 0.42857143, 0.5       , 0.57142857, 0.64285714,\n",
       "       0.71428571, 0.78571429, 0.85714286, 0.92857143, 0.92857143,\n",
       "       1.        , 1.        , 1.        , 1.        , 1.        ,\n",
       "       1.        , 1.        , 1.        , 1.        , 1.        ,\n",
       "       1.        , 1.        , 1.        , 1.        , 1.        ,\n",
       "       1.        ])"
      ]
     },
     "execution_count": 59,
     "metadata": {},
     "output_type": "execute_result"
    }
   ],
   "source": [
    "TPR"
   ]
  },
  {
   "cell_type": "code",
   "execution_count": 60,
   "metadata": {},
   "outputs": [
    {
     "data": {
      "text/plain": [
       "array([0.    , 0.    , 0.    , 0.    , 0.    , 0.    , 0.    , 0.    ,\n",
       "       0.    , 0.    , 0.    , 0.    , 0.    , 0.    , 0.0625, 0.0625,\n",
       "       0.125 , 0.1875, 0.25  , 0.3125, 0.375 , 0.4375, 0.5   , 0.5625,\n",
       "       0.625 , 0.6875, 0.75  , 0.8125, 0.875 , 0.9375, 1.    ])"
      ]
     },
     "execution_count": 60,
     "metadata": {},
     "output_type": "execute_result"
    }
   ],
   "source": [
    "FPR"
   ]
  },
  {
   "cell_type": "code",
   "execution_count": 61,
   "metadata": {},
   "outputs": [
    {
     "data": {
      "text/plain": [
       "[<matplotlib.lines.Line2D at 0x7fa7e7ec0410>]"
      ]
     },
     "execution_count": 61,
     "metadata": {},
     "output_type": "execute_result"
    },
    {
     "data": {
      "image/png": "[encoded data removed]",
      "text/plain": [
       "<Figure size 432x288 with 1 Axes>"
      ]
     },
     "metadata": {
      "needs_background": "light"
     },
     "output_type": "display_data"
    }
   ],
   "source": [
    "AUC_ROC = np.sum(0.5*(FPR[1:]-FPR[:-1])*(TPR[1:]+TPR[:-1]))\n",
    "\n",
    "plt.title('ROC curve')\n",
    "plt.ylim(0, 1.05)\n",
    "plt.xlabel('FPR')\n",
    "plt.ylabel('TPR')\n",
    "plt.grid()\n",
    "plt.legend(' ', title=f'AUC-ROC={AUC_ROC:.3f}', loc='lower right')\n",
    "plt.plot(FPR, TPR)"
   ]
  },
  {
   "cell_type": "code",
   "execution_count": 70,
   "metadata": {},
   "outputs": [
    {
     "data": {
      "text/plain": [
       "array([1.        , 1.        , 1.        , 1.        , 1.        ,\n",
       "       1.        , 1.        , 1.        , 1.        , 1.        ,\n",
       "       1.        , 1.        , 1.        , 0.92857143, 0.93333333,\n",
       "       0.875     , 0.82352941, 0.77777778, 0.73684211, 0.7       ,\n",
       "       0.66666667, 0.63636364, 0.60869565, 0.58333333, 0.56      ,\n",
       "       0.53846154, 0.51851852, 0.5       , 0.48275862, 0.46666667])"
      ]
     },
     "execution_count": 70,
     "metadata": {},
     "output_type": "execute_result"
    }
   ],
   "source": [
    "precision=tn_list/(tn_list+fn_list)\n",
    "precision"
   ]
  },
  {
   "cell_type": "code",
   "execution_count": 71,
   "metadata": {},
   "outputs": [
    {
     "data": {
      "text/plain": [
       "array([0.        , 0.07142857, 0.14285714, 0.21428571, 0.28571429,\n",
       "       0.35714286, 0.42857143, 0.5       , 0.57142857, 0.64285714,\n",
       "       0.71428571, 0.78571429, 0.85714286, 0.92857143, 0.92857143,\n",
       "       1.        , 1.        , 1.        , 1.        , 1.        ,\n",
       "       1.        , 1.        , 1.        , 1.        , 1.        ,\n",
       "       1.        , 1.        , 1.        , 1.        , 1.        ,\n",
       "       1.        ])"
      ]
     },
     "execution_count": 71,
     "metadata": {},
     "output_type": "execute_result"
    }
   ],
   "source": [
    "recall = TPR\n",
    "recall"
   ]
  },
  {
   "cell_type": "code",
   "execution_count": 72,
   "metadata": {},
   "outputs": [
    {
     "data": {
      "text/plain": [
       "[<matplotlib.lines.Line2D at 0x7fa7e8497dd0>]"
      ]
     },
     "execution_count": 72,
     "metadata": {},
     "output_type": "execute_result"
    },
    {
     "data": {
      "image/png": "[encoded data removed]",
      "text/plain": [
       "<Figure size 432x288 with 1 Axes>"
      ]
     },
     "metadata": {
      "needs_background": "light"
     },
     "output_type": "display_data"
    }
   ],
   "source": [
    "AUC_PR = np.sum(precision*(recall[1:]-recall[:-1]))\n",
    "\n",
    "plt.title('PR curve')\n",
    "plt.ylim(0, 1.05)\n",
    "plt.xlabel('recall')\n",
    "plt.ylabel('presision')\n",
    "plt.grid()\n",
    "plt.legend(' ', title=f'AUC-PR={AUC_PR:.3f}', loc='lower right')\n",
    "plt.plot(recall[1:], precision)"
   ]
  },
  {
   "cell_type": "code",
   "execution_count": null,
   "metadata": {},
   "outputs": [],
   "source": []
  }
 ],
 "metadata": {
  "kernelspec": {
   "display_name": "Python 3",
   "language": "python",
   "name": "python3"
  },
  "language_info": {
   "codemirror_mode": {
    "name": "ipython",
    "version": 3
   },
   "file_extension": ".py",
   "mimetype": "text/x-python",
   "name": "python",
   "nbconvert_exporter": "python",
   "pygments_lexer": "ipython3",
   "version": "3.7.6"
  }
 },
 "nbformat": 4,
 "nbformat_minor": 4
}
